{
 "cells": [
  {
   "cell_type": "code",
   "execution_count": null,
   "id": "8c91d75d",
   "metadata": {},
   "outputs": [],
   "source": [
    "import sys\n",
    "sys.path.append('../src/')\n",
    "from xpcs import *\n",
    "from sims import *\n",
    "import cv2\n",
    "from scipy.special import erfinv\n",
    "\n",
    "%matplotlib notebook"
   ]
  },
  {
   "cell_type": "markdown",
   "id": "41568614",
   "metadata": {},
   "source": [
    "# Contrast Calculation"
   ]
  },
  {
   "cell_type": "code",
   "execution_count": null,
   "id": "52b34833",
   "metadata": {},
   "outputs": [],
   "source": [
    "numBlocks = np.shape(blocks)[0]\n",
    "\n",
    "for j in range(0,numBlocks):\n",
    "\n",
    "    dt = 1\n",
    "\n",
    "    #initializations\n",
    "    b = np.zeros(blocks[0].shape[0])\n",
    "    running_image = blocks[0][0]\n",
    "    b[0] = beta_Michelson(blocks[0][0])\n",
    "\n",
    "    for i in range(1,blocks[0].shape[0]):\n",
    "        running_image += blocks[0][i]\n",
    "        b[i] = beta_Michelson(running_image)"
   ]
  },
  {
   "cell_type": "code",
   "execution_count": null,
   "id": "b6210192",
   "metadata": {},
   "outputs": [],
   "source": [
    "import matplotlib.pyplot as plt\n",
    "%matplotlib notebook\n",
    "\n",
    "fig, ax = plt.subplots()\n",
    "ax.plot(b[1:])\n",
    "fig.show()"
   ]
  },
  {
   "cell_type": "markdown",
   "id": "8e6c0d19",
   "metadata": {},
   "source": [
    "# Laplacian Technique"
   ]
  },
  {
   "cell_type": "code",
   "execution_count": null,
   "id": "319d5eda",
   "metadata": {},
   "outputs": [],
   "source": [
    "import matplotlib.pyplot as plt\n",
    "%matplotlib notebook\n",
    "\n",
    "detGrad = np.gradient(det,axis=(1,2))\n",
    "print(detGrad[0].shape)\n",
    "\n",
    "fig, axs = plt.subplots(1, 2, figsize=(8, 4))\n",
    "\n",
    "axs[0].imshow(np.sum(det[0:3,:,:],axis=0)+1,cmap='nipy_spectral',norm=LogNorm(vmin=1, vmax=35))\n",
    "axs[0].set_title('Original')\n",
    "\n",
    "axs[1].imshow(np.sum(detGrad[0][0:3,:,:],axis=0)+1,cmap='nipy_spectral',norm=LogNorm(vmin=1, vmax=5))\n",
    "axs[1].set_title('Laplacian')\n",
    "\n",
    "ax.axes.xaxis.set_visible(False)\n",
    "ax.axes.yaxis.set_visible(False)"
   ]
  },
  {
   "cell_type": "markdown",
   "id": "bbd9dbfc",
   "metadata": {},
   "source": [
    "# Laplacian Movie"
   ]
  },
  {
   "cell_type": "code",
   "execution_count": null,
   "id": "ba3825aa",
   "metadata": {},
   "outputs": [],
   "source": [
    "import matplotlib.pyplot as plt\n",
    "%matplotlib notebook\n",
    "\n",
    "fig, ax = plt.subplots()\n",
    "\n",
    "frames = np.arange(1,len(detGrad[0]))\n",
    "fps = 10\n",
    "make_detector_movie(detGrad[0],frames,1,fig,ax,'test',fps,scale='not log')  "
   ]
  }
 ],
 "metadata": {
  "kernelspec": {
   "display_name": "xpcs",
   "language": "python",
   "name": "xpcs"
  },
  "language_info": {
   "codemirror_mode": {
    "name": "ipython",
    "version": 3
   },
   "file_extension": ".py",
   "mimetype": "text/x-python",
   "name": "python",
   "nbconvert_exporter": "python",
   "pygments_lexer": "ipython3",
   "version": "3.12.2"
  }
 },
 "nbformat": 4,
 "nbformat_minor": 5
}

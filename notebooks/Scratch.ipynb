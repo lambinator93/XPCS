{
 "cells": [
  {
   "cell_type": "code",
   "execution_count": null,
   "id": "08bc0d31",
   "metadata": {},
   "outputs": [],
   "source": [
    "import sys\n",
    "sys.path.append('../src/')\n",
    "from xpcs import *\n",
    "from sims import *\n",
    "from autocorrelations import *\n",
    "import cv2\n",
    "from scipy.special import erfinv\n",
    "import pyopencl as cl\n",
    "\n",
    "%matplotlib notebook"
   ]
  },
  {
   "cell_type": "markdown",
   "id": "e4d12979",
   "metadata": {},
   "source": [
    "# Find 2Th Position From Detector"
   ]
  },
  {
   "cell_type": "code",
   "execution_count": null,
   "id": "410630b8",
   "metadata": {},
   "outputs": [],
   "source": [
    "det_width = x1.shape[0]*x_pixel_size # Microns\n",
    "angular_span = (det_width/D)*180/np.pi #Angular span of whole detector\n",
    "dThdpix = angular_span/x1.shape[0] #Degrees per pixel, roughly\n",
    "\n",
    "pixXcen = np.arange(-y1.shape[0]//2,y1.shape[0]//2)\n",
    "\n",
    "thetas = np.flip(pixXcen*dThdpix+ttheta) #Thetas for th given detector position"
   ]
  },
  {
   "cell_type": "markdown",
   "id": "b2aa743e",
   "metadata": {},
   "source": [
    "# Plot as a function of Q"
   ]
  },
  {
   "cell_type": "code",
   "execution_count": null,
   "id": "93f0b0aa",
   "metadata": {},
   "outputs": [],
   "source": [
    "x = Qx[0,:]\n",
    "# Data\n",
    "poptth, pcovth = curve_fit(gaussian, x, y1, p0=[np.max(y1), x[np.argmax(np.flip(y1))] , 2, np.min(y1[np.nonzero(y1)])])\n",
    "\n",
    "# Create a figure and a set of subplots\n",
    "fig, axs = plt.subplots(2, 1, figsize=(8, 4))  # 2 rows, 1 column\n",
    "\n",
    "# Plot on the first axis\n",
    "axs[0].plot(x,y1)\n",
    "axs[0].plot(x, gaussian(x, *poptth), label='mu={}\\nsigma={}'.format(poptth[1],poptth[2]), color='red')\n",
    "axs[0].set_title('Q_x')\n",
    "axs[0].legend()\n",
    "axs[1].plot(q_to_tth(x,wavelength),y1)"
   ]
  },
  {
   "cell_type": "markdown",
   "id": "c2b6da32",
   "metadata": {},
   "source": [
    "# Sample Information"
   ]
  },
  {
   "cell_type": "code",
   "execution_count": null,
   "id": "c0a4fd91",
   "metadata": {},
   "outputs": [],
   "source": [
    "hkl = [1,2,1]\n",
    "\n",
    "a,b,c = 7.07114, 7.07114, 7.07114\n",
    "\n",
    "alpha, beta, gamma = 90.000000, 90.000000, 90.000000"
   ]
  },
  {
   "cell_type": "markdown",
   "id": "c8a95da9",
   "metadata": {},
   "source": [
    "# Create Mask"
   ]
  },
  {
   "cell_type": "code",
   "execution_count": null,
   "id": "22b38a09",
   "metadata": {},
   "outputs": [],
   "source": [
    "f=0.5 #Block size in standard deviations\n",
    "block_shape = [int(np.rint(hSig*f)),int(np.rint(hSig*f))]\n",
    "num_blocks = [25,17] #vertical, horizotanl. Odd numbers only\n",
    "blocks,coords = create_square_mask(det,block_shape,num_blocks)"
   ]
  },
  {
   "cell_type": "markdown",
   "id": "894d8ca6",
   "metadata": {},
   "source": [
    "## My Way"
   ]
  },
  {
   "cell_type": "code",
   "execution_count": null,
   "id": "b37049f1",
   "metadata": {},
   "outputs": [],
   "source": [
    "\n",
    "coords = np.array(coords)\n",
    "iCen = np.shape(coords)[0]//2 #Get center ROI index\n",
    "\n",
    "coordCen = coords[iCen] #Get center ROI coordinate\n",
    "\n",
    "dPixelXY = (coords-coordCen)*np.array([x_pixel_size,y_pixel_size]) #ROI distance coordinates in pixels\n",
    "\n",
    "dPixDist = np.sqrt(np.sum(dPixelXY**2,axis=1)) #ROIs distances In microns\n",
    "\n",
    "dTheta = (dPixDist/(D*10**(-3)))*180/np.pi\n",
    "print(f'ΔTh:{dTheta}')\n",
    "\n",
    "delQ = (4*np.pi/wavelength)*np.sin(0.5*dTheta*np.pi/180)\n",
    "print(f'Q_cen:{delQ}')\n"
   ]
  },
  {
   "cell_type": "markdown",
   "id": "10c3d3a1",
   "metadata": {},
   "source": [
    "## Vanyas Way"
   ]
  },
  {
   "cell_type": "code",
   "execution_count": null,
   "id": "a5f06159",
   "metadata": {},
   "outputs": [],
   "source": [
    "#Calculate momentum transfer in x and y directions\n",
    "qx,qy = reciprocal_space_map(wavelength,ttheta,X0,Y0,0.075,D,detDims)\n",
    "\n",
    "#Create a meshgrid to map to the detector shpae\n",
    "Qx,Qy = np.meshgrid(qx,qy)\n",
    "\n",
    "#print(f'Qx:{Qx}')\n",
    "#print(f'Qy:{Qy}')\n",
    "\n",
    "#Set to same ROI as the detector\n",
    "Qx = Qx[roi[0]:roi[1],roi[2]:roi[3]]\n",
    "Qy = Qy[roi[0]:roi[1],roi[2]:roi[3]]\n",
    "\n",
    "Qx0 = Qx[coordCen[1],coordCen[0]]\n",
    "Qy0 = Qy[coordCen[1],coordCen[0]]\n",
    "\n",
    "#dQ = np.sqrt((Qx-Qx0)**2+(Qy-Qy0)**2)\n",
    "\n",
    "dQ = np.sqrt((Qx-Qx0)**2+(Qy-Qy0)**2)[coords[:,1],coords[:,0]]\n",
    "\n",
    "dQ = np.around(dQ,5)\n",
    "\n",
    "print(f'ΔQ:{(delQ-dQ)/delQ}')"
   ]
  },
  {
   "cell_type": "code",
   "execution_count": null,
   "id": "503bef6b",
   "metadata": {},
   "outputs": [],
   "source": [
    "import matplotlib.pyplot as plt\n",
    "%matplotlib notebook\n",
    "\n",
    "\n",
    "# Create a figure and axis\n",
    "fig, ax = plt.subplots()\n",
    "# Display the image\n",
    "ax.imshow(np.sum(det[0:5,:,:],axis=0)+1,cmap='nipy_spectral',norm=LogNorm(vmin=1, vmax=35))\n",
    "\n",
    "# Draw the rectangles\n",
    "for (x, y) in coords:\n",
    "    # Create a rectangle patch at the given coordinates with the width and height of the block\n",
    "    # Rectangle sets the origin in the bottom-left corner of the rectangle. Need to shift to center \n",
    "    rect = Rectangle((x-block_shape[1]//2, y-block_shape[0]//2), block_shape[1], block_shape[0], linewidth=1, edgecolor='r', facecolor='none')\n",
    "    ax.add_patch(rect)\n",
    "\n",
    "# Show the plot with the ROIs\n",
    "plt.show()"
   ]
  }
 ],
 "metadata": {
  "kernelspec": {
   "display_name": "xpcs",
   "language": "python",
   "name": "xpcs"
  },
  "language_info": {
   "codemirror_mode": {
    "name": "ipython",
    "version": 3
   },
   "file_extension": ".py",
   "mimetype": "text/x-python",
   "name": "python",
   "nbconvert_exporter": "python",
   "pygments_lexer": "ipython3",
   "version": "3.12.2"
  }
 },
 "nbformat": 4,
 "nbformat_minor": 5
}
